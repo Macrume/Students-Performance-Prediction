{
 "cells": [
  {
   "cell_type": "markdown",
   "metadata": {},
   "source": [
    "# Model Comparison\n"
   ]
  },
  {
   "cell_type": "code",
   "execution_count": 1,
   "metadata": {},
   "outputs": [],
   "source": [
    "# Import necessary libraries\n",
    "import pandas as pd\n",
    "import numpy as np\n",
    "import os\n",
    "from dotenv import load_dotenv\n",
    "\n",
    "import matplotlib.pyplot as plt\n",
    "import seaborn as sns\n",
    "\n",
    "from sklearn.metrics import (accuracy_score, confusion_matrix, classification_report,\n",
    "                             roc_curve, roc_auc_score, f1_score)\n",
    "import joblib\n"
   ]
  },
  {
   "cell_type": "code",
   "execution_count": 2,
   "metadata": {},
   "outputs": [],
   "source": [
    "# Load environment variables from .env file\n",
    "load_dotenv()\n",
    "\n",
    "# Get directory paths from environment variables\n",
    "NOTEBOOKS_DIR_PATH = os.getenv('NOTEBOOKS_DIR_PATH')\n",
    "DATASETS_DIR_PATH = os.getenv('DATASETS_DIR_PATH')\n",
    "RAPORTS_DIR_PATH = os.getenv('RAPORTS_DIR_PATH')\n",
    "MODELS_DIR_PATH = os.getenv('MODELS_DIR_PATH')\n",
    "\n",
    "# Define file paths\n",
    "processed_data_path = os.path.join('..', DATASETS_DIR_PATH, 'processed_data.csv')\n",
    "models_dir = os.path.join('..', MODELS_DIR_PATH)"
   ]
  },
  {
   "cell_type": "code",
   "execution_count": 3,
   "metadata": {},
   "outputs": [],
   "source": [
    "# Load the processed data\n",
    "df = pd.read_csv(processed_data_path)\n",
    "\n",
    "# Prepare data for evaluation\n",
    "X = df.drop('passed', axis=1)\n",
    "y = df['passed']\n",
    "\n",
    "# We will use the same train_test_split as before (with random_state=0 and test_size=0.3)\n",
    "from sklearn.model_selection import train_test_split\n",
    "X_train, X_test, y_train, y_test = train_test_split(X, y, test_size=0.3, random_state=0)"
   ]
  },
  {
   "cell_type": "markdown",
   "metadata": {},
   "source": [
    "## Load Trained Models\n",
    "\n",
    "Załadujmy wcześniej wytrenowane i zapisane modele: Logistic Regression, KNN oraz SVM.\n"
   ]
  },
  {
   "cell_type": "code",
   "execution_count": 4,
   "metadata": {},
   "outputs": [],
   "source": [
    "# Paths to the saved models\n",
    "logistic_model_path = os.path.join(models_dir, 'logistic_regression_model.joblib')\n",
    "knn_model_path = os.path.join(models_dir, 'knn_model.joblib')\n",
    "svm_model_path = os.path.join(models_dir, 'svm_model.joblib')\n",
    "\n",
    "# Load models\n",
    "logistic_model = joblib.load(logistic_model_path)\n",
    "knn_model = joblib.load(knn_model_path)\n",
    "svm_model = joblib.load(svm_model_path)\n"
   ]
  },
  {
   "cell_type": "markdown",
   "metadata": {},
   "source": [
    "## Evaluate Each Model\n",
    "\n",
    "Obliczymy metryki takie jak Accuracy, F1-score, ROC-AUC oraz wyświetlimy confusion matrix dla każdego modelu.\n"
   ]
  },
  {
   "cell_type": "code",
   "execution_count": 5,
   "metadata": {},
   "outputs": [
    {
     "name": "stdout",
     "output_type": "stream",
     "text": [
      "Model: Logistic Regression\n",
      "Accuracy: 0.5966\n",
      "F1 Score: 0.7391\n",
      "ROC AUC: 0.6930\n",
      "Confusion Matrix:\n",
      "[[ 3 47]\n",
      " [ 1 68]]\n",
      "Classification Report:\n",
      "              precision    recall  f1-score   support\n",
      "\n",
      "         0.0       0.75      0.06      0.11        50\n",
      "         1.0       0.59      0.99      0.74        69\n",
      "\n",
      "    accuracy                           0.60       119\n",
      "   macro avg       0.67      0.52      0.43       119\n",
      "weighted avg       0.66      0.60      0.48       119\n",
      "\n",
      "-----------------------------------------------------\n",
      "Model: KNN\n",
      "Accuracy: 0.5630\n",
      "F1 Score: 0.7174\n",
      "ROC AUC: 0.6639\n",
      "Confusion Matrix:\n",
      "[[ 1 49]\n",
      " [ 3 66]]\n",
      "Classification Report:\n",
      "              precision    recall  f1-score   support\n",
      "\n",
      "         0.0       0.25      0.02      0.04        50\n",
      "         1.0       0.57      0.96      0.72        69\n",
      "\n",
      "    accuracy                           0.56       119\n",
      "   macro avg       0.41      0.49      0.38       119\n",
      "weighted avg       0.44      0.56      0.43       119\n",
      "\n",
      "-----------------------------------------------------\n",
      "Model: SVM\n",
      "Accuracy: 0.5966\n",
      "F1 Score: 0.7391\n",
      "ROC AUC: 0.7249\n",
      "Confusion Matrix:\n",
      "[[ 3 47]\n",
      " [ 1 68]]\n",
      "Classification Report:\n",
      "              precision    recall  f1-score   support\n",
      "\n",
      "         0.0       0.75      0.06      0.11        50\n",
      "         1.0       0.59      0.99      0.74        69\n",
      "\n",
      "    accuracy                           0.60       119\n",
      "   macro avg       0.67      0.52      0.43       119\n",
      "weighted avg       0.66      0.60      0.48       119\n",
      "\n"
     ]
    }
   ],
   "source": [
    "def evaluate_model(model, X_test, y_test, model_name):\n",
    "    y_pred = model.predict(X_test)\n",
    "    y_pred_proba = model.predict_proba(X_test)[:,1]\n",
    "\n",
    "    acc = accuracy_score(y_test, y_pred)\n",
    "    f1 = f1_score(y_test, y_pred)\n",
    "    auc = roc_auc_score(y_test, y_pred_proba)\n",
    "    cm = confusion_matrix(y_test, y_pred)\n",
    "\n",
    "    print(f\"Model: {model_name}\")\n",
    "    print(f\"Accuracy: {acc:.4f}\")\n",
    "    print(f\"F1 Score: {f1:.4f}\")\n",
    "    print(f\"ROC AUC: {auc:.4f}\")\n",
    "    print(\"Confusion Matrix:\")\n",
    "    print(cm)\n",
    "    print(\"Classification Report:\")\n",
    "    print(classification_report(y_test, y_pred))\n",
    "\n",
    "    return {\n",
    "        'model': model_name,\n",
    "        'accuracy': acc,\n",
    "        'f1': f1,\n",
    "        'auc': auc,\n",
    "        'cm': cm,\n",
    "        'y_pred': y_pred,\n",
    "        'y_pred_proba': y_pred_proba\n",
    "    }\n",
    "\n",
    "# Evaluate each model\n",
    "logistic_results = evaluate_model(logistic_model, X_test, y_test, 'Logistic Regression')\n",
    "print(\"-----------------------------------------------------\")\n",
    "knn_results = evaluate_model(knn_model, X_test, y_test, 'KNN')\n",
    "print(\"-----------------------------------------------------\")\n",
    "svm_results = evaluate_model(svm_model, X_test, y_test, 'SVM')\n"
   ]
  },
  {
   "cell_type": "markdown",
   "metadata": {},
   "source": [
    "## Compare Models\n",
    "\n",
    "Teraz porównamy metryki wszystkich trzech modeli.\n"
   ]
  },
  {
   "cell_type": "code",
   "execution_count": 6,
   "metadata": {},
   "outputs": [
    {
     "data": {
      "text/html": [
       "<div>\n",
       "<style scoped>\n",
       "    .dataframe tbody tr th:only-of-type {\n",
       "        vertical-align: middle;\n",
       "    }\n",
       "\n",
       "    .dataframe tbody tr th {\n",
       "        vertical-align: top;\n",
       "    }\n",
       "\n",
       "    .dataframe thead th {\n",
       "        text-align: right;\n",
       "    }\n",
       "</style>\n",
       "<table border=\"1\" class=\"dataframe\">\n",
       "  <thead>\n",
       "    <tr style=\"text-align: right;\">\n",
       "      <th></th>\n",
       "      <th>Model</th>\n",
       "      <th>Accuracy</th>\n",
       "      <th>F1 Score</th>\n",
       "      <th>ROC AUC</th>\n",
       "    </tr>\n",
       "  </thead>\n",
       "  <tbody>\n",
       "    <tr>\n",
       "      <th>0</th>\n",
       "      <td>Logistic Regression</td>\n",
       "      <td>0.596639</td>\n",
       "      <td>0.739130</td>\n",
       "      <td>0.693043</td>\n",
       "    </tr>\n",
       "    <tr>\n",
       "      <th>1</th>\n",
       "      <td>KNN</td>\n",
       "      <td>0.563025</td>\n",
       "      <td>0.717391</td>\n",
       "      <td>0.663913</td>\n",
       "    </tr>\n",
       "    <tr>\n",
       "      <th>2</th>\n",
       "      <td>SVM</td>\n",
       "      <td>0.596639</td>\n",
       "      <td>0.739130</td>\n",
       "      <td>0.724928</td>\n",
       "    </tr>\n",
       "  </tbody>\n",
       "</table>\n",
       "</div>"
      ],
      "text/plain": [
       "                 Model  Accuracy  F1 Score   ROC AUC\n",
       "0  Logistic Regression  0.596639  0.739130  0.693043\n",
       "1                  KNN  0.563025  0.717391  0.663913\n",
       "2                  SVM  0.596639  0.739130  0.724928"
      ]
     },
     "execution_count": 6,
     "metadata": {},
     "output_type": "execute_result"
    }
   ],
   "source": [
    "results_df = pd.DataFrame([\n",
    "    [logistic_results['model'], logistic_results['accuracy'], logistic_results['f1'], logistic_results['auc']],\n",
    "    [knn_results['model'], knn_results['accuracy'], knn_results['f1'], knn_results['auc']],\n",
    "    [svm_results['model'], svm_results['accuracy'], svm_results['f1'], svm_results['auc']]\n",
    "],\n",
    "columns=['Model', 'Accuracy', 'F1 Score', 'ROC AUC'])\n",
    "\n",
    "results_df\n"
   ]
  },
  {
   "cell_type": "markdown",
   "metadata": {},
   "source": [
    "## ROC Curves Comparison\n",
    "\n",
    "Porównajmy krzywe ROC wszystkich trzech modeli na jednym wykresie.\n"
   ]
  },
  {
   "cell_type": "code",
   "execution_count": 7,
   "metadata": {},
   "outputs": [
    {
     "data": {
      "image/png": "[encoded data removed]",
      "text/plain": [
       "<Figure size 800x600 with 1 Axes>"
      ]
     },
     "metadata": {},
     "output_type": "display_data"
    }
   ],
   "source": [
    "plt.figure(figsize=(8,6))\n",
    "\n",
    "# Logistic ROC\n",
    "fpr_l, tpr_l, _ = roc_curve(y_test, logistic_results['y_pred_proba'])\n",
    "plt.plot(fpr_l, tpr_l, label=f\"Logistic (AUC={logistic_results['auc']:.2f})\")\n",
    "\n",
    "# KNN ROC\n",
    "fpr_k, tpr_k, _ = roc_curve(y_test, knn_results['y_pred_proba'])\n",
    "plt.plot(fpr_k, tpr_k, label=f\"KNN (AUC={knn_results['auc']:.2f})\")\n",
    "\n",
    "# SVM ROC\n",
    "fpr_s, tpr_s, _ = roc_curve(y_test, svm_results['y_pred_proba'])\n",
    "plt.plot(fpr_s, tpr_s, label=f\"SVM (AUC={svm_results['auc']:.2f})\")\n",
    "\n",
    "plt.plot([0,1],[0,1],'--', color='grey')\n",
    "plt.xlabel('False Positive Rate')\n",
    "plt.ylabel('True Positive Rate')\n",
    "plt.title('ROC Curves Comparison')\n",
    "plt.legend()\n",
    "plt.show()"
   ]
  },
  {
   "cell_type": "markdown",
   "metadata": {},
   "source": [
    "## Best Model Selection\n",
    "\n",
    "Na podstawie metryk takich jak Accuracy, F1 Score oraz ROC AUC wybierzemy najlepszy model.\n"
   ]
  },
  {
   "cell_type": "code",
   "execution_count": 8,
   "metadata": {},
   "outputs": [
    {
     "name": "stdout",
     "output_type": "stream",
     "text": [
      "Best Model based on F1 Score:\n",
      "Model       Logistic Regression\n",
      "Accuracy               0.596639\n",
      "F1 Score                0.73913\n",
      "ROC AUC                0.693043\n",
      "Name: 0, dtype: object\n"
     ]
    }
   ],
   "source": [
    "# Let's say we prioritize F1 Score or Accuracy. You can adjust the metric according to your need.\n",
    "best_model = results_df.sort_values(by='F1 Score', ascending=False).iloc[0]\n",
    "print(\"Best Model based on F1 Score:\")\n",
    "print(best_model)\n"
   ]
  }
 ],
 "metadata": {
  "kernelspec": {
   "display_name": ".venv",
   "language": "python",
   "name": "python3"
  },
  "language_info": {
   "codemirror_mode": {
    "name": "ipython",
    "version": 3
   },
   "file_extension": ".py",
   "mimetype": "text/x-python",
   "name": "python",
   "nbconvert_exporter": "python",
   "pygments_lexer": "ipython3",
   "version": "3.10.0"
  }
 },
 "nbformat": 4,
 "nbformat_minor": 2
}
